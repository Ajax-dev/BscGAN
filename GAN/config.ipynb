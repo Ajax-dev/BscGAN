{
 "cells": [
  {
   "cell_type": "code",
   "execution_count": 4,
   "id": "distinct-verification",
   "metadata": {},
   "outputs": [],
   "source": [
    "from easydict import EasyDict as edict"
   ]
  },
  {
   "cell_type": "code",
   "execution_count": 5,
   "id": "fourth-bachelor",
   "metadata": {},
   "outputs": [],
   "source": [
    "config = edict()\n",
    "config.TRAIN = edict()"
   ]
  },
  {
   "cell_type": "code",
   "execution_count": 6,
   "id": "computational-richardson",
   "metadata": {},
   "outputs": [],
   "source": [
    "## Adam optimizer settings\n",
    "config.TRAIN.batch_size = 8\n",
    "\n",
    "#initialise generator\n",
    "config.TRAIN.epochs = 1\n",
    "\n",
    "# initialise GAN\n",
    "config.TRAIN.epochs = 20\n",
    "\n",
    "# images\n",
    "config.TRAIN.hr_images = '../BSR/BSDS500/data/images'\n",
    "config.TRAIN.training_img = config.TRAIN.hr_images + '/train'\n",
    "config.TRAIN.testing_img = config.TRAIN.hr_images + '/test'\n",
    "config.TRAIN.validation = config.TRAIN.hr_images + '/val'\n",
    "config.TRAIN.downscale = 4\n",
    "config.TRAIN.image_shape = (256,256,3)\n",
    "config.TRAIN.lr_init = 1e-3\n",
    "config.TRAIN.filters = 64\n",
    "config.TRAIN.kernel = (3,3)\n",
    "config.TRAIN.stride = 1\n"
   ]
  }
 ],
 "metadata": {
  "kernelspec": {
   "display_name": "Python 3",
   "language": "python",
   "name": "python3"
  },
  "language_info": {
   "codemirror_mode": {
    "name": "ipython",
    "version": 3
   },
   "file_extension": ".py",
   "mimetype": "text/x-python",
   "name": "python",
   "nbconvert_exporter": "python",
   "pygments_lexer": "ipython3",
   "version": "3.8.6"
  }
 },
 "nbformat": 4,
 "nbformat_minor": 5
}
