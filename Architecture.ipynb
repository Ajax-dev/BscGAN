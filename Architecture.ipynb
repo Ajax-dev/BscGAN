{
 "cells": [
  {
   "cell_type": "markdown",
   "id": "treated-glory",
   "metadata": {},
   "source": [
    "### Importing relevant modules"
   ]
  },
  {
   "cell_type": "code",
   "execution_count": 1,
   "id": "polish-century",
   "metadata": {},
   "outputs": [],
   "source": [
    "from tensorflow.keras.layers import Dense, Input\n",
    "from keras.layers.core import Activation, Flatten\n",
    "from keras.layers.normalization import BatchNormalization\n",
    "from keras.layers.convolutional import UpSampling2D, Conv2D, Conv2DTranspose\n",
    "from tensorflow.keras.models import Model\n",
    "from keras.layers.advanced_activations import LeakyReLU, ReLU\n",
    "import os"
   ]
  },
  {
   "cell_type": "code",
   "execution_count": 2,
   "id": "rolled-floating",
   "metadata": {},
   "outputs": [
    {
     "name": "stdout",
     "output_type": "stream",
     "text": [
      "8\n"
     ]
    }
   ],
   "source": [
    "dir_path = os.path.dirname(os.path.realpath(\"config.ipynb\"))\n",
    "%run ./config.ipynb\n",
    "\n",
    "print(config.TRAIN.batch_size)"
   ]
  },
  {
   "cell_type": "markdown",
   "id": "freelance-williams",
   "metadata": {},
   "source": [
    "Defining blocks for the generator as descibed in architecture set out in: \n",
    "- https://arxiv.org/pdf/1609.04802.pdf"
   ]
  },
  {
   "cell_type": "code",
   "execution_count": 3,
   "id": "abroad-programmer",
   "metadata": {},
   "outputs": [],
   "source": [
    "def residual(model, filters, kernel_filter, stride):\n",
    "    \n",
    "    modelState = model\n",
    "    \n",
    "    model = Conv2D(filters = filters, kernel_size = kernel_filter, strides = stride, padding = \"same\")(model)\n",
    "    # At the end convolved with the model to produce an output of tensors\n",
    "    model = BatchNormalization(momentum = 0.5)(model)\n",
    "    # momentum is momentum of moving averages\n",
    "    \n",
    "    model = ReLU(alpha_initializer='zeros', alpha_regularizer=None, alpha_constraint=None, shared_axes=[1,2])(model)\n",
    "    # As defined in https://keras.io/api/layers/activation_layers/prelu/\n",
    "    model = Conv2D(filters = filters, kernel_size = kernel_filter, strides = stride, padding = \"same\")(model)\n",
    "    model = BatchNormalization(momentum = 0.5)(model)\n",
    "    \n",
    "    model = tensorflow.keras.layers.Add([modelState,model])\n",
    "    # add original model passed in with new block defined\n",
    "    \n",
    "    return model"
   ]
  },
  {
   "cell_type": "code",
   "execution_count": 4,
   "id": "recent-jonathan",
   "metadata": {},
   "outputs": [],
   "source": [
    "def up_sampling_block(model, filters, kernel_size, stride):\n",
    "    \n",
    "    model = Conv2D(filters = filters, kernel_size = kernel_size, strides = stride, padding = \"same\")(model)\n",
    "    # 2 x PixelShuffler\n",
    "    model = UpSampling2D(size = 2)(model)\n",
    "    # alpha defaults to 0.3 so left as is\n",
    "    model = ReLU()(model)\n",
    "    \n",
    "    return model"
   ]
  },
  {
   "cell_type": "code",
   "execution_count": 5,
   "id": "romantic-balance",
   "metadata": {},
   "outputs": [],
   "source": [
    "# Network architecture simplified from paper https://arxiv.org/pdf/1609.04802.pdf\n",
    "def GenNet(shape):\n",
    "        \n",
    "    generator_input = Input(shape = shape)\n",
    "    generator_model = Conv2D(filters = 64, kernel_size = 9, strides = 1, padding=\"SAME\", input_shape = generator_input)\n",
    "    generator_model = ReLU(alpha_initializer='zeros', alpha_regularizer=None, alpha_constraint=None, shared_axes=[1,2])(generator_model)\n",
    "\n",
    "    generator_model.summary()\n",
    "    modelTmp = generator_model\n",
    "\n",
    "    # Start simple using 2 residual blocks\n",
    "    for i in range(2):\n",
    "        generator_model = residual(model, 3, 64, 1)\n",
    "\n",
    "    generator_model = Conv2D(64, (3,3), (1,1), padding = \"SAME\")(generator_model)\n",
    "    generator_model = BatchNormalization(momentum = 0.5)(model)\n",
    "    generator_model = add(generator_model, modelTmp)\n",
    "\n",
    "    \n",
    "    # 2 UpSampling of PixelShuffling Blocks\n",
    "    for i in range(2):\n",
    "        #up_sampling_block(generator_model, 256, (3,3) , (1,1))\n",
    "        model = Conv2D(filters = config.TRAIN.filters * 4, kernel_size = config.TRAIN.kernel, strides = config.TRAIN.stride, padding = \"same\")(model)\n",
    "        # 2 x PixelShuffler\n",
    "        model = UpSampling2D(size = 2)(model)\n",
    "        # alpha defaults to 0.3 so left as is\n",
    "        model = ReLU()(model)\n",
    "        generator_model=model\n",
    "\n",
    "    generator_model = Conv2D(filters = 3, kernel_size = 9, strides = 1, padding=\"SAME\")(generator_model)\n",
    "    generator_model = Activation('tanh')(generator_model)\n",
    "\n",
    "    generator_model_complete = Model(inputs = generator_input, outputs = generator_model)\n",
    "    \n",
    "    \n",
    "    print(\"This is the model summary\")\n",
    "    print(generator_model_complete.summary())\n",
    "    return generator_model_complete\n",
    "    "
   ]
  },
  {
   "cell_type": "code",
   "execution_count": 6,
   "id": "linear-exception",
   "metadata": {},
   "outputs": [],
   "source": [
    "def discriminator_block(model, filters, kernel_size, strides):\n",
    "    \n",
    "    model = Conv2D(filters = filters, kernel_size = kernel_size, strides = strides, padding = \"same\")(model)\n",
    "    model = BatchNormalization(momentum = 0.5)(model)\n",
    "    model = LeakyReLU(alpha = 0.2)(model)\n",
    "    \n",
    "    return model"
   ]
  },
  {
   "cell_type": "code",
   "execution_count": 7,
   "id": "explicit-pendant",
   "metadata": {},
   "outputs": [],
   "source": [
    "# Network architecture simplified from paper stated above\n",
    "def DisNet(shape):\n",
    "\n",
    "    discriminator_input = Input(shape = shape)\n",
    "\n",
    "    discriminator_model = Conv2D(config.TRAIN.filters, (3,3), 1, padding=\"SAME\")(discriminator_input)\n",
    "    discriminator_model = LeakyReLU()(discriminator_model)\n",
    "\n",
    "    discriminator_model = discriminator_block(discriminator_model, config.TRAIN.filters, 3, 2)\n",
    "    discriminator_model = discriminator_block(discriminator_model, config.TRAIN.filters*2, 3, 1)\n",
    "    discriminator_model = discriminator_block(discriminator_model, config.TRAIN.filters*2, 3, 2)\n",
    "    discriminator_model = discriminator_block(discriminator_model, config.TRAIN.filters*4, 3, 1)\n",
    "    discriminator_model = discriminator_block(discriminator_model, config.TRAIN.filters*4, 3, 2)\n",
    "    discriminator_model = discriminator_block(discriminator_model, config.TRAIN.filters*8, 3, 1)\n",
    "    discriminator_model = discriminator_block(discriminator_model, config.TRAIN.filters*8, 3, 2)\n",
    "\n",
    "    discriminator_model = Flatten()(discriminator_model)\n",
    "    discriminator_model = Dense(1024)(discriminator_model)\n",
    "    discriminator_model = LeakyReLU()(discriminator_model)\n",
    "\n",
    "    discriminator_model = Dense(1)(discriminator_model)\n",
    "    discriminator_model = Activation('sigmoid')(discriminator_model)\n",
    "\n",
    "    complete_model = Model(inputs = discriminator_input, outputs = discriminator_model)\n",
    "\n",
    "    \n",
    "    print(\"This is the model summary\")\n",
    "    print(model_complete.summary())\n",
    "    return complete_model\n",
    "\n"
   ]
  },
  {
   "cell_type": "code",
   "execution_count": null,
   "id": "earned-commander",
   "metadata": {},
   "outputs": [],
   "source": []
  },
  {
   "cell_type": "code",
   "execution_count": null,
   "id": "gorgeous-latvia",
   "metadata": {},
   "outputs": [],
   "source": []
  }
 ],
 "metadata": {
  "kernelspec": {
   "display_name": "Python 3",
   "language": "python",
   "name": "python3"
  },
  "language_info": {
   "codemirror_mode": {
    "name": "ipython",
    "version": 3
   },
   "file_extension": ".py",
   "mimetype": "text/x-python",
   "name": "python",
   "nbconvert_exporter": "python",
   "pygments_lexer": "ipython3",
   "version": "3.8.6"
  }
 },
 "nbformat": 4,
 "nbformat_minor": 5
}
